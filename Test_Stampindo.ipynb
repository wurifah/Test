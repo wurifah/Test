{
  "nbformat": 4,
  "nbformat_minor": 0,
  "metadata": {
    "colab": {
      "provenance": []
    },
    "kernelspec": {
      "name": "python3",
      "display_name": "Python 3"
    },
    "language_info": {
      "name": "python"
    }
  },
  "cells": [
    {
      "cell_type": "code",
      "execution_count": 1,
      "metadata": {
        "colab": {
          "base_uri": "https://localhost:8080/"
        },
        "id": "AvFQO-eEjb0N",
        "outputId": "92414df7-b6de-4a2e-cfd5-c04b736a1955"
      },
      "outputs": [
        {
          "output_type": "stream",
          "name": "stdout",
          "text": [
            "Bar Foo 98 Foo Bar 94 Foo 92 91 FooBar 88 Foo 86 Bar Foo 82 Foo Bar Foo 77 76 FooBar 74 Foo Bar Foo 68 Foo Bar 64 Foo 62 FooBar 58 Foo 56 Bar Foo 52 Foo Bar 49 Foo 46 FooBar 44 Foo Bar Foo 38 Foo Bar 34 Foo 32 FooBar 28 Foo 26 Bar Foo 22 Foo Bar Foo 16 FooBar 14 Foo Bar Foo 8 Foo 4 1 "
          ]
        }
      ],
      "source": [
        "for num in range(101, 0, -1):\n",
        "    if num < 2:\n",
        "        print(num, end=\" \")\n",
        "        continue\n",
        "    for i in range(2, num):\n",
        "        if (num % i) == 0:\n",
        "            if num % 3 == 0 and num % 5 == 0:\n",
        "                num = 'FooBar'\n",
        "            elif  num % 3 == 0:\n",
        "                num = 'Foo'\n",
        "            elif num % 5 == 0:\n",
        "                num = 'Bar'\n",
        "            print(num, end=\" \")\n",
        "            break"
      ]
    }
  ]
}